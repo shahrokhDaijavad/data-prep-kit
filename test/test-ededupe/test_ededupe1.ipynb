{
  "cells": [
    {
      "cell_type": "markdown",
      "id": "841e533d-ebb3-406d-9da7-b19e2c5f5866",
      "metadata": {
        "id": "841e533d-ebb3-406d-9da7-b19e2c5f5866"
      },
      "source": [
        "# Debug eDedupe"
      ]
    },
    {
      "cell_type": "code",
      "execution_count": 1,
      "id": "33345487",
      "metadata": {
        "colab": {
          "base_uri": "https://localhost:8080/"
        },
        "id": "33345487",
        "outputId": "79b40d76-b4dd-48ea-9638-461c78a637a1"
      },
      "outputs": [],
      "source": [
        "import os\n",
        "\n",
        "## Configuration\n",
        "class MyConfig:\n",
        "    pass\n",
        "\n",
        "MY_CONFIG = MyConfig ()\n",
        "\n",
        "MY_CONFIG.INPUT_DATA_DIR = 'input'\n",
        "  \n",
        "MY_CONFIG.OUTPUT_FOLDER = \"output\"\n",
        "MY_CONFIG.OUTPUT_FOLDER_FINAL = os.path.join(MY_CONFIG.OUTPUT_FOLDER , \"output_final\")"
      ]
    },
    {
      "cell_type": "code",
      "execution_count": 2,
      "id": "b15e6827",
      "metadata": {
        "id": "b15e6827"
      },
      "outputs": [],
      "source": [
        "## Add parent dir to path\n",
        "import os,sys\n",
        "\n",
        "this_dir = os.path.abspath('')\n",
        "parent_dir = os.path.dirname(this_dir)\n",
        "sys.path.append (os.path.abspath (parent_dir))"
      ]
    },
    {
      "cell_type": "markdown",
      "id": "72510ae6-48b0-4b88-9e13-a623281c3a63",
      "metadata": {
        "id": "72510ae6-48b0-4b88-9e13-a623281c3a63"
      },
      "source": [
        "### 2.2 - Setup input/outpur directories"
      ]
    },
    {
      "cell_type": "code",
      "execution_count": 3,
      "id": "60ac8bee-0960-4309-b225-d7a211b14262",
      "metadata": {
        "colab": {
          "base_uri": "https://localhost:8080/"
        },
        "id": "60ac8bee-0960-4309-b225-d7a211b14262",
        "outputId": "5c305d54-1c91-455d-d0e2-b514b61a068b"
      },
      "outputs": [
        {
          "name": "stdout",
          "output_type": "stream",
          "text": [
            "✅ Cleared output directory\n"
          ]
        }
      ],
      "source": [
        "import os, sys\n",
        "import shutil\n",
        "\n",
        "if not os.path.exists(MY_CONFIG.INPUT_DATA_DIR ):\n",
        "    raise Exception (f\"❌ Input folder MY_CONFIG.INPUT_DATA_DIR = '{MY_CONFIG.INPUT_DATA_DIR}' not found\")\n",
        "\n",
        "output_parquet_dir = os.path.join (MY_CONFIG.OUTPUT_FOLDER, '01_parquet_out')\n",
        "output_chunk_dir = os.path.join (MY_CONFIG.OUTPUT_FOLDER, '02_chunk_out')\n",
        "output_exact_dedupe_dir = os.path.join (MY_CONFIG.OUTPUT_FOLDER, '03_exact_dedupe_out')\n",
        "\n",
        "## clear output folder\n",
        "shutil.rmtree(MY_CONFIG.OUTPUT_FOLDER, ignore_errors=True)\n",
        "shutil.os.makedirs(MY_CONFIG.OUTPUT_FOLDER, exist_ok=True)\n",
        "\n",
        "print (\"✅ Cleared output directory\")"
      ]
    },
    {
      "cell_type": "markdown",
      "id": "2449e5c7-078c-4ad6-a2f6-21d39d4da3fb",
      "metadata": {
        "id": "2449e5c7-078c-4ad6-a2f6-21d39d4da3fb"
      },
      "source": [
        "## Step-3: pdf2parquet -  Convert data from PDF to Parquet\n",
        "\n",
        "This step is reading the input folder containing all PDF files and ingest them in a parquet table using the [Docling package](https://github.com/DS4SD/docling).\n",
        "The documents are converted into a JSON format which allows to easily chunk it in the later steps.\n",
        "\n"
      ]
    },
    {
      "cell_type": "markdown",
      "id": "c0c574c4-9dc4-4dab-9ad6-b5338207e67a",
      "metadata": {
        "id": "c0c574c4-9dc4-4dab-9ad6-b5338207e67a"
      },
      "source": [
        "### 3.1 - Set Input/output Folder"
      ]
    },
    {
      "cell_type": "code",
      "execution_count": 4,
      "id": "482605b2-d814-456d-9195-49a2ec454ef0",
      "metadata": {
        "colab": {
          "base_uri": "https://localhost:8080/"
        },
        "id": "482605b2-d814-456d-9195-49a2ec454ef0",
        "outputId": "90eb1f89-35d1-4b6f-ea34-7667680dd256"
      },
      "outputs": [
        {
          "name": "stdout",
          "output_type": "stream",
          "text": [
            "🏃🏼 STAGE-1: Processing input='input' --> output='output/01_parquet_out'\n"
          ]
        }
      ],
      "source": [
        "STAGE = 1\n",
        "\n",
        "input_folder = MY_CONFIG.INPUT_DATA_DIR\n",
        "output_folder =  output_parquet_dir\n",
        "\n",
        "print (f\"🏃🏼 STAGE-{STAGE}: Processing input='{input_folder}' --> output='{output_folder}'\")"
      ]
    },
    {
      "cell_type": "markdown",
      "id": "9bb15f02-ab5c-4525-a536-cfa1fd2ba70b",
      "metadata": {
        "id": "9bb15f02-ab5c-4525-a536-cfa1fd2ba70b"
      },
      "source": [
        "### 3.2 - Execute"
      ]
    },
    {
      "cell_type": "code",
      "execution_count": 5,
      "id": "b0cd8ebd-bf71-42d6-a397-8df0c7b66a26",
      "metadata": {
        "colab": {
          "base_uri": "https://localhost:8080/",
          "height": 625,
          "referenced_widgets": [
            "8226b2522ce446f6bd3a36c4e227370c",
            "7616f1b493e1461c9fd1319fae3bc10b",
            "4f63bfad92b64e7bae18e720376d402d",
            "6957a659451b46dab702c1c62fa9cdd2",
            "2eea7bc810e54eaeb325136352b71e66",
            "ebc626c0750c470db6789b26acf15f60",
            "3077f04af3a9447ab98717bd3131cd8f",
            "709685da1c6c4164bed658357a2191bf",
            "0a1ed94698ca4e4291c553929e0ca66c",
            "5dbc6889a9c243c5a922f8cc5f1a704c",
            "d6e520e4da004c818031ccfcc3588e5d"
          ]
        },
        "id": "b0cd8ebd-bf71-42d6-a397-8df0c7b66a26",
        "outputId": "e2c85b44-f605-4817-c120-2cdce79e3c84"
      },
      "outputs": [
        {
          "name": "stderr",
          "output_type": "stream",
          "text": [
            "23:00:40 INFO - pdf2parquet parameters are : {'artifacts_path': None, 'contents_type': <pdf2parquet_contents_types.JSON: 'application/json'>, 'do_table_structure': True, 'do_ocr': True, 'double_precision': 8}\n",
            "23:00:40 INFO - pipeline id pipeline_id\n",
            "23:00:40 INFO - code location None\n",
            "23:00:40 INFO - data factory data_ is using local data access: input_folder - input output_folder - output/01_parquet_out\n",
            "23:00:40 INFO - data factory data_ max_files -1, n_sample -1\n",
            "23:00:40 INFO - data factory data_ Not using data sets, checkpointing False, max files -1, random samples -1, files to use ['.pdf'], files to checkpoint ['.parquet']\n",
            "23:00:40 INFO - orchestrator pdf2parquet started at 2024-09-13 23:00:40\n",
            "23:00:40 INFO - Number of files is 6, source profile {'max_file_size': 0.02610492706298828, 'min_file_size': 0.0250701904296875, 'total_file_size': 0.15283870697021484}\n",
            "23:00:40 INFO - Initializing models\n"
          ]
        },
        {
          "data": {
            "application/vnd.jupyter.widget-view+json": {
              "model_id": "c5cb45736f33418083ab1d12bc2a7fb6",
              "version_major": 2,
              "version_minor": 0
            },
            "text/plain": [
              "Fetching 7 files:   0%|          | 0/7 [00:00<?, ?it/s]"
            ]
          },
          "metadata": {},
          "output_type": "display_data"
        },
        {
          "name": "stderr",
          "output_type": "stream",
          "text": [
            "Neither CUDA nor MPS are available - defaulting to CPU. Note: This module is much faster with a GPU.\n",
            "23:00:43 INFO - Completed 1 files (16.67%) in 0.013 min\n",
            "23:00:44 INFO - Completed 2 files (33.33%) in 0.026 min\n",
            "23:00:45 INFO - Completed 3 files (50.0%) in 0.038 min\n",
            "23:00:46 INFO - Completed 4 files (66.67%) in 0.052 min\n",
            "23:00:46 INFO - Completed 5 files (83.33%) in 0.065 min\n",
            "23:00:47 INFO - Completed 6 files (100.0%) in 0.078 min\n",
            "23:00:47 INFO - Done processing 6 files, waiting for flush() completion.\n",
            "23:00:47 INFO - done flushing in 0.0 sec\n",
            "23:00:47 INFO - Completed execution in 0.12 min, execution result 0\n"
          ]
        },
        {
          "name": "stdout",
          "output_type": "stream",
          "text": [
            "✅ Stage:1 completed successfully\n",
            "CPU times: user 22.3 s, sys: 1.62 s, total: 24 s\n",
            "Wall time: 9.64 s\n"
          ]
        }
      ],
      "source": [
        "%%time\n",
        "\n",
        "import ast\n",
        "import os\n",
        "import sys\n",
        "\n",
        "from pdf2parquet_transform import (\n",
        "    pdf2parquet_contents_type_cli_param,\n",
        "    pdf2parquet_contents_types,\n",
        ")\n",
        "from data_processing.runtime.pure_python import PythonTransformLauncher\n",
        "from pdf2parquet_transform_python import Pdf2ParquetPythonTransformConfiguration\n",
        "\n",
        "from data_processing.utils import GB, ParamsUtils\n",
        "\n",
        "\n",
        "# create parameters\n",
        "local_conf = {\n",
        "    \"input_folder\": input_folder,\n",
        "    \"output_folder\": output_folder,\n",
        "}\n",
        "ingest_config = {\n",
        "    pdf2parquet_contents_type_cli_param: pdf2parquet_contents_types.JSON,\n",
        "}\n",
        "\n",
        "params = {\n",
        "    # Data access. Only required parameters are specified\n",
        "    \"data_local_config\": ParamsUtils.convert_to_ast(local_conf),\n",
        "    \"data_files_to_use\": ast.literal_eval(\"['.pdf']\"),\n",
        "}\n",
        "\n",
        "\n",
        "sys.argv = ParamsUtils.dict_to_req(d=(params | ingest_config))\n",
        "# create launcher\n",
        "launcher = PythonTransformLauncher(Pdf2ParquetPythonTransformConfiguration())\n",
        "# launch\n",
        "return_code = launcher.launch()\n",
        "\n",
        "if return_code == 0:\n",
        "    print (f\"✅ Stage:{STAGE} completed successfully\")\n",
        "else:\n",
        "    raise Exception (\"❌ Job failed\")\n"
      ]
    },
    {
      "cell_type": "markdown",
      "id": "5ca790e0",
      "metadata": {
        "id": "5ca790e0"
      },
      "source": [
        "### 3.3 - Inspect Generated output\n",
        "\n",
        "Here we should see one entry per input file processed."
      ]
    },
    {
      "cell_type": "code",
      "execution_count": 6,
      "id": "fe59563d",
      "metadata": {
        "colab": {
          "base_uri": "https://localhost:8080/",
          "height": 254
        },
        "id": "fe59563d",
        "outputId": "9eb9a350-c7be-4306-a8ae-4d2414d6c271"
      },
      "outputs": [
        {
          "name": "stdout",
          "output_type": "stream",
          "text": [
            "Output dimensions (rows x columns)=  (6, 12)\n"
          ]
        },
        {
          "data": {
            "text/html": [
              "<div>\n",
              "<style scoped>\n",
              "    .dataframe tbody tr th:only-of-type {\n",
              "        vertical-align: middle;\n",
              "    }\n",
              "\n",
              "    .dataframe tbody tr th {\n",
              "        vertical-align: top;\n",
              "    }\n",
              "\n",
              "    .dataframe thead th {\n",
              "        text-align: right;\n",
              "    }\n",
              "</style>\n",
              "<table border=\"1\" class=\"dataframe\">\n",
              "  <thead>\n",
              "    <tr style=\"text-align: right;\">\n",
              "      <th></th>\n",
              "      <th>filename</th>\n",
              "      <th>contents</th>\n",
              "      <th>num_pages</th>\n",
              "      <th>num_tables</th>\n",
              "      <th>num_doc_elements</th>\n",
              "      <th>document_id</th>\n",
              "      <th>ext</th>\n",
              "      <th>hash</th>\n",
              "      <th>size</th>\n",
              "      <th>date_acquired</th>\n",
              "      <th>pdf_convert_time</th>\n",
              "      <th>source_filename</th>\n",
              "    </tr>\n",
              "  </thead>\n",
              "  <tbody>\n",
              "    <tr>\n",
              "      <th>0</th>\n",
              "      <td>a1.pdf</td>\n",
              "      <td>{\"_name\":\"\",\"type\":\"pdf-document\",\"description...</td>\n",
              "      <td>1</td>\n",
              "      <td>0</td>\n",
              "      <td>2</td>\n",
              "      <td>5d766fe6-67ae-4620-9431-d695b66e6a89</td>\n",
              "      <td>pdf</td>\n",
              "      <td>41122e7a59cbacf219f10cdbd22c24d6ffa4a6d31533ec...</td>\n",
              "      <td>789</td>\n",
              "      <td>2024-09-13T23:00:43.733981</td>\n",
              "      <td>0.780716</td>\n",
              "      <td>a1.pdf</td>\n",
              "    </tr>\n",
              "    <tr>\n",
              "      <th>1</th>\n",
              "      <td>b1.pdf</td>\n",
              "      <td>{\"_name\":\"\",\"type\":\"pdf-document\",\"description...</td>\n",
              "      <td>1</td>\n",
              "      <td>0</td>\n",
              "      <td>2</td>\n",
              "      <td>b529d38c-cf70-4878-9089-7c8449bed7b5</td>\n",
              "      <td>pdf</td>\n",
              "      <td>6f4a8f8e44f2d5938093f66afdcaa2a8426a2a05e00c23...</td>\n",
              "      <td>783</td>\n",
              "      <td>2024-09-13T23:00:45.258812</td>\n",
              "      <td>0.748940</td>\n",
              "      <td>b1.pdf</td>\n",
              "    </tr>\n",
              "    <tr>\n",
              "      <th>2</th>\n",
              "      <td>b2.pdf</td>\n",
              "      <td>{\"_name\":\"\",\"type\":\"pdf-document\",\"description...</td>\n",
              "      <td>1</td>\n",
              "      <td>0</td>\n",
              "      <td>2</td>\n",
              "      <td>6b904b0c-26f1-4fd5-830f-47d91a08b8a6</td>\n",
              "      <td>pdf</td>\n",
              "      <td>eeefd9456dbef796f630a382cf0c0d4766978203b9cda7...</td>\n",
              "      <td>783</td>\n",
              "      <td>2024-09-13T23:00:46.075172</td>\n",
              "      <td>0.814075</td>\n",
              "      <td>b2.pdf</td>\n",
              "    </tr>\n",
              "    <tr>\n",
              "      <th>3</th>\n",
              "      <td>c1.pdf</td>\n",
              "      <td>{\"_name\":\"\",\"type\":\"pdf-document\",\"description...</td>\n",
              "      <td>1</td>\n",
              "      <td>0</td>\n",
              "      <td>2</td>\n",
              "      <td>38488a60-bb3c-438a-8fee-ec45fc68f22f</td>\n",
              "      <td>pdf</td>\n",
              "      <td>56cda15204f7c8f8bb99a799e36fba2108d2afe466c6e7...</td>\n",
              "      <td>787</td>\n",
              "      <td>2024-09-13T23:00:46.837473</td>\n",
              "      <td>0.760193</td>\n",
              "      <td>c1.pdf</td>\n",
              "    </tr>\n",
              "    <tr>\n",
              "      <th>4</th>\n",
              "      <td>d1.pdf</td>\n",
              "      <td>{\"_name\":\"\",\"type\":\"pdf-document\",\"description...</td>\n",
              "      <td>1</td>\n",
              "      <td>0</td>\n",
              "      <td>2</td>\n",
              "      <td>655dd99b-9c3c-4227-832e-75a2525480ff</td>\n",
              "      <td>pdf</td>\n",
              "      <td>9a7f163d75ce6335d0ef75bf49a669153d04f2f5da5c9a...</td>\n",
              "      <td>784</td>\n",
              "      <td>2024-09-13T23:00:47.604329</td>\n",
              "      <td>0.764891</td>\n",
              "      <td>d1.pdf</td>\n",
              "    </tr>\n",
              "  </tbody>\n",
              "</table>\n",
              "</div>"
            ],
            "text/plain": [
              "  filename                                           contents  num_pages  \\\n",
              "0   a1.pdf  {\"_name\":\"\",\"type\":\"pdf-document\",\"description...          1   \n",
              "1   b1.pdf  {\"_name\":\"\",\"type\":\"pdf-document\",\"description...          1   \n",
              "2   b2.pdf  {\"_name\":\"\",\"type\":\"pdf-document\",\"description...          1   \n",
              "3   c1.pdf  {\"_name\":\"\",\"type\":\"pdf-document\",\"description...          1   \n",
              "4   d1.pdf  {\"_name\":\"\",\"type\":\"pdf-document\",\"description...          1   \n",
              "\n",
              "   num_tables  num_doc_elements                           document_id  ext  \\\n",
              "0           0                 2  5d766fe6-67ae-4620-9431-d695b66e6a89  pdf   \n",
              "1           0                 2  b529d38c-cf70-4878-9089-7c8449bed7b5  pdf   \n",
              "2           0                 2  6b904b0c-26f1-4fd5-830f-47d91a08b8a6  pdf   \n",
              "3           0                 2  38488a60-bb3c-438a-8fee-ec45fc68f22f  pdf   \n",
              "4           0                 2  655dd99b-9c3c-4227-832e-75a2525480ff  pdf   \n",
              "\n",
              "                                                hash  size  \\\n",
              "0  41122e7a59cbacf219f10cdbd22c24d6ffa4a6d31533ec...   789   \n",
              "1  6f4a8f8e44f2d5938093f66afdcaa2a8426a2a05e00c23...   783   \n",
              "2  eeefd9456dbef796f630a382cf0c0d4766978203b9cda7...   783   \n",
              "3  56cda15204f7c8f8bb99a799e36fba2108d2afe466c6e7...   787   \n",
              "4  9a7f163d75ce6335d0ef75bf49a669153d04f2f5da5c9a...   784   \n",
              "\n",
              "                date_acquired  pdf_convert_time source_filename  \n",
              "0  2024-09-13T23:00:43.733981          0.780716          a1.pdf  \n",
              "1  2024-09-13T23:00:45.258812          0.748940          b1.pdf  \n",
              "2  2024-09-13T23:00:46.075172          0.814075          b2.pdf  \n",
              "3  2024-09-13T23:00:46.837473          0.760193          c1.pdf  \n",
              "4  2024-09-13T23:00:47.604329          0.764891          d1.pdf  "
            ]
          },
          "execution_count": 6,
          "metadata": {},
          "output_type": "execute_result"
        }
      ],
      "source": [
        "from utils import read_parquet_files_as_df\n",
        "\n",
        "output_df = read_parquet_files_as_df(output_folder)\n",
        "\n",
        "print (\"Output dimensions (rows x columns)= \", output_df.shape)\n",
        "\n",
        "output_df.head(5)\n",
        "\n",
        "## To display certain columns\n",
        "#parquet_df[['column1', 'column2', 'column3']].head(5)"
      ]
    },
    {
      "cell_type": "markdown",
      "id": "e5058a21",
      "metadata": {
        "id": "e5058a21"
      },
      "source": [
        "\n",
        "### 3.4 - Understand the output\n",
        "\n",
        "Here are some interesting attributes to note:\n",
        "\n",
        "- **filename** : original filename\n",
        "- **contents** : text\n",
        "- **document_id**: unique id (UUID) assignd to this document\n",
        "- **hash** : hash of document\n",
        "- **pdf_convert_time** : time to convert this pdf in seconds\n",
        "\n",
        "Let's inspect the **contents** column.  See how the text is being divided up!"
      ]
    },
    {
      "cell_type": "code",
      "execution_count": 7,
      "id": "f870e624",
      "metadata": {
        "colab": {
          "base_uri": "https://localhost:8080/"
        },
        "id": "f870e624",
        "outputId": "f70bfa9f-62f8-417d-d91a-30c1f024ccbd"
      },
      "outputs": [
        {
          "name": "stdout",
          "output_type": "stream",
          "text": [
            "{'_name': '',\n",
            " 'description': {'logs': []},\n",
            " 'equations': [],\n",
            " 'figures': [],\n",
            " 'file-info': {'#-pages': 1,\n",
            "               'document-hash': '4512df83786d672e062f144a718290982e3a8952c20ddb11014cbb3dcb9b507d',\n",
            "               'filename': 'a1.pdf',\n",
            "               'page-hashes': [{'hash': '1a75ddf16ddb235368915aed32ab00ccd753838488ec3bb785be9bb84c0d9259',\n",
            "                                'model': 'default',\n",
            "                                'page': 1}]},\n",
            " 'footnotes': [],\n",
            " 'main-text': [{'name': 'Text',\n",
            "                'prov': [{'bbox': [132.78564453,\n",
            "                                   655.18377686,\n",
            "                                   251.93409729,\n",
            "                                   665.57006836],\n",
            "                          'page': 1,\n",
            "                          'span': [0, 29]}],\n",
            "                'text': 'Twinkle, twinkle, little star',\n",
            "                'type': 'paragraph'},\n",
            "               {'name': 'Page-footer',\n",
            "                'prov': [{'bbox': [303.13299561,\n",
            "                                   87.43224335,\n",
            "                                   308.11428833,\n",
            "                                   96.62137604],\n",
            "                          'page': 1,\n",
            "                          'span': [0, 1]}],\n",
            "                'text': '1',\n",
            "                'type': 'page-footer'}],\n",
            " 'page-dimensions': [{'height': 792.0, 'page': 1, 'width': 612.0}],\n",
            " 'page-footers': [],\n",
            " 'page-headers': [],\n",
            " 'tables': [],\n",
            " 'type': 'pdf-document'}\n"
          ]
        }
      ],
      "source": [
        "import pprint\n",
        "import json\n",
        "\n",
        "pprint.pprint (json.loads(output_df.iloc[0, ]['contents']))\n",
        "# json.loads(output_df.iloc[0, ]['contents'])"
      ]
    },
    {
      "cell_type": "code",
      "execution_count": 8,
      "id": "e1a10c2d",
      "metadata": {
        "colab": {
          "base_uri": "https://localhost:8080/"
        },
        "id": "e1a10c2d",
        "outputId": "300e7688-692a-4039-c4a4-a86887d9138b"
      },
      "outputs": [
        {
          "name": "stdout",
          "output_type": "stream",
          "text": [
            "{'_name': '',\n",
            " 'description': {'logs': []},\n",
            " 'equations': [],\n",
            " 'figures': [],\n",
            " 'file-info': {'#-pages': 1,\n",
            "               'document-hash': 'd4eac2a62256525112db6fcc23666b6f7156582460d3df7557a0dfecbaf10820',\n",
            "               'filename': 'b1.pdf',\n",
            "               'page-hashes': [{'hash': '9f6ceee3445d8de9a99fee27551ba26b4b434b315776b8e905a99ed2398f9587',\n",
            "                                'model': 'default',\n",
            "                                'page': 1}]},\n",
            " 'footnotes': [],\n",
            " 'main-text': [{'name': 'Text',\n",
            "                'prov': [{'bbox': [133.23675537,\n",
            "                                   654.84521484,\n",
            "                                   257.8024292,\n",
            "                                   665.2824707],\n",
            "                          'page': 1,\n",
            "                          'span': [0, 26]}],\n",
            "                'text': 'How I wonder what you are!',\n",
            "                'type': 'paragraph'},\n",
            "               {'name': 'Page-footer',\n",
            "                'prov': [{'bbox': [303.13299561,\n",
            "                                   87.43224335,\n",
            "                                   308.11428833,\n",
            "                                   96.5956192],\n",
            "                          'page': 1,\n",
            "                          'span': [0, 1]}],\n",
            "                'text': '1',\n",
            "                'type': 'page-footer'}],\n",
            " 'page-dimensions': [{'height': 792.0, 'page': 1, 'width': 612.0}],\n",
            " 'page-footers': [],\n",
            " 'page-headers': [],\n",
            " 'tables': [],\n",
            " 'type': 'pdf-document'}\n"
          ]
        }
      ],
      "source": [
        "pprint.pprint (json.loads(output_df.iloc[1, ]['contents']))"
      ]
    },
    {
      "cell_type": "markdown",
      "id": "0895e1b7",
      "metadata": {},
      "source": [
        "##  Step-4: Doc chunks\n",
        "\n",
        "In the previous step, we have extracted text from oru PDFs.  But we have the content of entire file as 'one row' in our parquet output.\n",
        "\n",
        "In this step, we are going to split the documents in chunks, according to their layout segmentation.\n",
        "\n",
        "This transform uses [Quackling](https://github.com/DS4SD/quackling) `HierarchicalChunker`\n",
        "to chunk according to the document layout segmentation, i.e. respecting the original document components as paragraphs, tables, enumerations, etc.\n",
        "It relies on documents converted with the Docling library in the [pdf2parquet transform](https://github.com/IBM/data-prep-kit/blob/dev/transforms/language/pdf2parquet/python/README.md) using the option `contents_type: \"application/json\"`,\n",
        "which provides the required JSON structure."
      ]
    },
    {
      "cell_type": "markdown",
      "id": "3575dca2",
      "metadata": {},
      "source": [
        "### 4.1 - Set Input/output Folder\n"
      ]
    },
    {
      "cell_type": "code",
      "execution_count": 9,
      "id": "ac38b86a",
      "metadata": {},
      "outputs": [
        {
          "name": "stdout",
          "output_type": "stream",
          "text": [
            "🏃🏼 STAGE-2: Processing input='output/01_parquet_out' --> output='output/02_chunk_out'\n"
          ]
        }
      ],
      "source": [
        "STAGE = 2\n",
        "\n",
        "input_folder = output_parquet_dir # previous output folder is the input folder for the current stage\n",
        "output_folder =  output_chunk_dir\n",
        "\n",
        "input_df = read_parquet_files_as_df(input_folder)  ## for debug purposes\n",
        "\n",
        "print (f\"🏃🏼 STAGE-{STAGE}: Processing input='{input_folder}' --> output='{output_folder}'\")"
      ]
    },
    {
      "cell_type": "markdown",
      "id": "dce08ab2",
      "metadata": {},
      "source": [
        "### 4.2 - Execute\n"
      ]
    },
    {
      "cell_type": "code",
      "execution_count": 10,
      "id": "69850277",
      "metadata": {},
      "outputs": [
        {
          "name": "stderr",
          "output_type": "stream",
          "text": [
            "23:00:48 INFO - doc_chunk parameters are : {'chunking_type': <chunking_types.DL_JSON: 'dl_json'>, 'content_column_name': 'contents', 'output_chunk_column_name': 'contents', 'output_jsonpath_column_name': 'doc_jsonpath', 'output_pageno_column_name': 'page_number', 'output_bbox_column_name': 'bbox'}\n",
            "23:00:48 INFO - pipeline id pipeline_id\n",
            "23:00:48 INFO - code location None\n",
            "23:00:48 INFO - data factory data_ is using local data access: input_folder - output/01_parquet_out output_folder - output/02_chunk_out\n",
            "23:00:48 INFO - data factory data_ max_files -1, n_sample -1\n",
            "23:00:48 INFO - data factory data_ Not using data sets, checkpointing False, max files -1, random samples -1, files to use ['.parquet'], files to checkpoint ['.parquet']\n",
            "23:00:48 INFO - orchestrator doc_chunk started at 2024-09-13 23:00:48\n",
            "23:00:48 INFO - Number of files is 6, source profile {'max_file_size': 0.010021209716796875, 'min_file_size': 0.009985923767089844, 'total_file_size': 0.060021400451660156}\n",
            "23:00:48 INFO - Completed 1 files (16.67%) in 0.0 min\n",
            "23:00:48 INFO - Completed 2 files (33.33%) in 0.0 min\n",
            "23:00:48 INFO - Completed 3 files (50.0%) in 0.0 min\n",
            "23:00:48 INFO - Completed 4 files (66.67%) in 0.0 min\n",
            "23:00:48 INFO - Completed 5 files (83.33%) in 0.0 min\n",
            "23:00:48 INFO - Completed 6 files (100.0%) in 0.0 min\n",
            "23:00:48 INFO - Done processing 6 files, waiting for flush() completion.\n",
            "23:00:48 INFO - done flushing in 0.0 sec\n",
            "23:00:48 INFO - Completed execution in 0.0 min, execution result 0\n"
          ]
        },
        {
          "name": "stdout",
          "output_type": "stream",
          "text": [
            "✅ Stage:2 completed successfully\n",
            "CPU times: user 736 ms, sys: 87.9 ms, total: 824 ms\n",
            "Wall time: 820 ms\n"
          ]
        }
      ],
      "source": [
        "%%time\n",
        "\n",
        "from data_processing.runtime.pure_python import PythonTransformLauncher\n",
        "from doc_chunk_transform_python import DocChunkPythonTransformConfiguration\n",
        "\n",
        "\n",
        "# Prepare the commandline params\n",
        "local_conf = {\n",
        "    \"input_folder\": input_folder,\n",
        "    \"output_folder\": output_folder,\n",
        "}\n",
        "params = {\n",
        "    # Data access. Only required parameters are specified\n",
        "    \"data_local_config\": ParamsUtils.convert_to_ast(local_conf),\n",
        "    # doc_chunk arguments\n",
        "    # ...\n",
        "}\n",
        "\n",
        "# Pass the commandline params\n",
        "sys.argv = ParamsUtils.dict_to_req(d=params)\n",
        "\n",
        "# create launcher\n",
        "launcher = PythonTransformLauncher(DocChunkPythonTransformConfiguration())\n",
        "# launch\n",
        "return_code = launcher.launch()\n",
        "\n",
        "if return_code == 0:\n",
        "    print (f\"✅ Stage:{STAGE} completed successfully\")\n",
        "else:\n",
        "    raise Exception (\"❌ Job failed\")"
      ]
    },
    {
      "cell_type": "markdown",
      "id": "270e931e",
      "metadata": {},
      "source": [
        "### 4.3 - Inspect Generated output\n",
        "\n",
        "We would see documents are split into many chunks"
      ]
    },
    {
      "cell_type": "code",
      "execution_count": 11,
      "id": "c2a8cff7",
      "metadata": {},
      "outputs": [
        {
          "name": "stdout",
          "output_type": "stream",
          "text": [
            "Files processed : 6\n",
            "Chunks created : 0\n",
            "Input data dimensions (rows x columns)=  (6, 12)\n",
            "Output data dimensions (rows x columns)=  (0, 0)\n"
          ]
        },
        {
          "data": {
            "text/html": [
              "<div>\n",
              "<style scoped>\n",
              "    .dataframe tbody tr th:only-of-type {\n",
              "        vertical-align: middle;\n",
              "    }\n",
              "\n",
              "    .dataframe tbody tr th {\n",
              "        vertical-align: top;\n",
              "    }\n",
              "\n",
              "    .dataframe thead th {\n",
              "        text-align: right;\n",
              "    }\n",
              "</style>\n",
              "<table border=\"1\" class=\"dataframe\">\n",
              "  <thead>\n",
              "    <tr style=\"text-align: right;\">\n",
              "      <th></th>\n",
              "    </tr>\n",
              "  </thead>\n",
              "  <tbody>\n",
              "  </tbody>\n",
              "</table>\n",
              "</div>"
            ],
            "text/plain": [
              "Empty DataFrame\n",
              "Columns: []\n",
              "Index: []"
            ]
          },
          "execution_count": 11,
          "metadata": {},
          "output_type": "execute_result"
        }
      ],
      "source": [
        "from utils import read_parquet_files_as_df\n",
        "\n",
        "output_df = read_parquet_files_as_df(output_folder)\n",
        "\n",
        "print (f\"Files processed : {input_df.shape[0]:,}\")\n",
        "print (f\"Chunks created : {output_df.shape[0]:,}\")\n",
        "\n",
        "print (\"Input data dimensions (rows x columns)= \", input_df.shape)\n",
        "print (\"Output data dimensions (rows x columns)= \", output_df.shape)\n",
        "\n",
        "output_df.head(10)"
      ]
    },
    {
      "cell_type": "markdown",
      "id": "5074c40f",
      "metadata": {},
      "source": [
        "### 4.4 - Understanding the Output\n",
        "\n",
        "Here we see 2 PDF files are split into 6 chunks.  Basically we see the documents are being split along 'natural boundaris' - paragraphs and bullet points\n",
        "\n",
        "See how **document_id** is carried throughout.  This helps us identify original documents.\n",
        "\n",
        "Also note **contents** is now plain text (not JSON as before)"
      ]
    },
    {
      "cell_type": "code",
      "execution_count": 12,
      "id": "667bd4e2",
      "metadata": {},
      "outputs": [
        {
          "ename": "KeyError",
          "evalue": "\"None of [Index(['filename', 'contents'], dtype='object')] are in the [columns]\"",
          "output_type": "error",
          "traceback": [
            "\u001b[0;31m---------------------------------------------------------------------------\u001b[0m",
            "\u001b[0;31mKeyError\u001b[0m                                  Traceback (most recent call last)",
            "Cell \u001b[0;32mIn[12], line 1\u001b[0m\n\u001b[0;32m----> 1\u001b[0m \u001b[43moutput_df\u001b[49m\u001b[43m[\u001b[49m\u001b[43m[\u001b[49m\u001b[38;5;124;43m'\u001b[39;49m\u001b[38;5;124;43mfilename\u001b[39;49m\u001b[38;5;124;43m'\u001b[39;49m\u001b[43m,\u001b[49m\u001b[43m \u001b[49m\u001b[38;5;124;43m'\u001b[39;49m\u001b[38;5;124;43mcontents\u001b[39;49m\u001b[38;5;124;43m'\u001b[39;49m\u001b[43m]\u001b[49m\u001b[43m]\u001b[49m\n",
            "File \u001b[0;32m~/apps/anaconda3/envs/data-prep-kit-7-dev3/lib/python3.11/site-packages/pandas/core/frame.py:4108\u001b[0m, in \u001b[0;36mDataFrame.__getitem__\u001b[0;34m(self, key)\u001b[0m\n\u001b[1;32m   4106\u001b[0m     \u001b[38;5;28;01mif\u001b[39;00m is_iterator(key):\n\u001b[1;32m   4107\u001b[0m         key \u001b[38;5;241m=\u001b[39m \u001b[38;5;28mlist\u001b[39m(key)\n\u001b[0;32m-> 4108\u001b[0m     indexer \u001b[38;5;241m=\u001b[39m \u001b[38;5;28;43mself\u001b[39;49m\u001b[38;5;241;43m.\u001b[39;49m\u001b[43mcolumns\u001b[49m\u001b[38;5;241;43m.\u001b[39;49m\u001b[43m_get_indexer_strict\u001b[49m\u001b[43m(\u001b[49m\u001b[43mkey\u001b[49m\u001b[43m,\u001b[49m\u001b[43m \u001b[49m\u001b[38;5;124;43m\"\u001b[39;49m\u001b[38;5;124;43mcolumns\u001b[39;49m\u001b[38;5;124;43m\"\u001b[39;49m\u001b[43m)\u001b[49m[\u001b[38;5;241m1\u001b[39m]\n\u001b[1;32m   4110\u001b[0m \u001b[38;5;66;03m# take() does not accept boolean indexers\u001b[39;00m\n\u001b[1;32m   4111\u001b[0m \u001b[38;5;28;01mif\u001b[39;00m \u001b[38;5;28mgetattr\u001b[39m(indexer, \u001b[38;5;124m\"\u001b[39m\u001b[38;5;124mdtype\u001b[39m\u001b[38;5;124m\"\u001b[39m, \u001b[38;5;28;01mNone\u001b[39;00m) \u001b[38;5;241m==\u001b[39m \u001b[38;5;28mbool\u001b[39m:\n",
            "File \u001b[0;32m~/apps/anaconda3/envs/data-prep-kit-7-dev3/lib/python3.11/site-packages/pandas/core/indexes/base.py:6200\u001b[0m, in \u001b[0;36mIndex._get_indexer_strict\u001b[0;34m(self, key, axis_name)\u001b[0m\n\u001b[1;32m   6197\u001b[0m \u001b[38;5;28;01melse\u001b[39;00m:\n\u001b[1;32m   6198\u001b[0m     keyarr, indexer, new_indexer \u001b[38;5;241m=\u001b[39m \u001b[38;5;28mself\u001b[39m\u001b[38;5;241m.\u001b[39m_reindex_non_unique(keyarr)\n\u001b[0;32m-> 6200\u001b[0m \u001b[38;5;28;43mself\u001b[39;49m\u001b[38;5;241;43m.\u001b[39;49m\u001b[43m_raise_if_missing\u001b[49m\u001b[43m(\u001b[49m\u001b[43mkeyarr\u001b[49m\u001b[43m,\u001b[49m\u001b[43m \u001b[49m\u001b[43mindexer\u001b[49m\u001b[43m,\u001b[49m\u001b[43m \u001b[49m\u001b[43maxis_name\u001b[49m\u001b[43m)\u001b[49m\n\u001b[1;32m   6202\u001b[0m keyarr \u001b[38;5;241m=\u001b[39m \u001b[38;5;28mself\u001b[39m\u001b[38;5;241m.\u001b[39mtake(indexer)\n\u001b[1;32m   6203\u001b[0m \u001b[38;5;28;01mif\u001b[39;00m \u001b[38;5;28misinstance\u001b[39m(key, Index):\n\u001b[1;32m   6204\u001b[0m     \u001b[38;5;66;03m# GH 42790 - Preserve name from an Index\u001b[39;00m\n",
            "File \u001b[0;32m~/apps/anaconda3/envs/data-prep-kit-7-dev3/lib/python3.11/site-packages/pandas/core/indexes/base.py:6249\u001b[0m, in \u001b[0;36mIndex._raise_if_missing\u001b[0;34m(self, key, indexer, axis_name)\u001b[0m\n\u001b[1;32m   6247\u001b[0m \u001b[38;5;28;01mif\u001b[39;00m nmissing:\n\u001b[1;32m   6248\u001b[0m     \u001b[38;5;28;01mif\u001b[39;00m nmissing \u001b[38;5;241m==\u001b[39m \u001b[38;5;28mlen\u001b[39m(indexer):\n\u001b[0;32m-> 6249\u001b[0m         \u001b[38;5;28;01mraise\u001b[39;00m \u001b[38;5;167;01mKeyError\u001b[39;00m(\u001b[38;5;124mf\u001b[39m\u001b[38;5;124m\"\u001b[39m\u001b[38;5;124mNone of [\u001b[39m\u001b[38;5;132;01m{\u001b[39;00mkey\u001b[38;5;132;01m}\u001b[39;00m\u001b[38;5;124m] are in the [\u001b[39m\u001b[38;5;132;01m{\u001b[39;00maxis_name\u001b[38;5;132;01m}\u001b[39;00m\u001b[38;5;124m]\u001b[39m\u001b[38;5;124m\"\u001b[39m)\n\u001b[1;32m   6251\u001b[0m     not_found \u001b[38;5;241m=\u001b[39m \u001b[38;5;28mlist\u001b[39m(ensure_index(key)[missing_mask\u001b[38;5;241m.\u001b[39mnonzero()[\u001b[38;5;241m0\u001b[39m]]\u001b[38;5;241m.\u001b[39munique())\n\u001b[1;32m   6252\u001b[0m     \u001b[38;5;28;01mraise\u001b[39;00m \u001b[38;5;167;01mKeyError\u001b[39;00m(\u001b[38;5;124mf\u001b[39m\u001b[38;5;124m\"\u001b[39m\u001b[38;5;132;01m{\u001b[39;00mnot_found\u001b[38;5;132;01m}\u001b[39;00m\u001b[38;5;124m not in index\u001b[39m\u001b[38;5;124m\"\u001b[39m)\n",
            "\u001b[0;31mKeyError\u001b[0m: \"None of [Index(['filename', 'contents'], dtype='object')] are in the [columns]\""
          ]
        }
      ],
      "source": [
        "output_df[['filename', 'contents']]\n"
      ]
    },
    {
      "cell_type": "code",
      "execution_count": null,
      "id": "02381a7d",
      "metadata": {},
      "outputs": [],
      "source": [
        "for f in output_df['filename'].unique():\n",
        "    print ('==========' , f, '===========')\n",
        "    chunks = output_df[output_df['filename'] == f]['contents']\n",
        "    for idx , chunk in enumerate(chunks):\n",
        "        print (f'-------Chunk {idx}------\\n{chunk}\\n-------')"
      ]
    },
    {
      "cell_type": "markdown",
      "id": "4692975c-49ff-41ae-810e-0f5bc0bbdc53",
      "metadata": {
        "id": "4692975c-49ff-41ae-810e-0f5bc0bbdc53"
      },
      "source": [
        "## Step-5: Exact Dedup\n",
        "\n"
      ]
    },
    {
      "cell_type": "markdown",
      "id": "5acfd3a2-a236-4143-bcfc-15804f1da7fe",
      "metadata": {
        "id": "5acfd3a2-a236-4143-bcfc-15804f1da7fe"
      },
      "source": [
        "### 5.1 - Set Input/output Folder"
      ]
    },
    {
      "cell_type": "code",
      "execution_count": null,
      "id": "4c7a1b94",
      "metadata": {
        "colab": {
          "base_uri": "https://localhost:8080/"
        },
        "id": "4c7a1b94",
        "outputId": "2a135853-c54f-4aa4-ffc4-83c2bc7a68ce"
      },
      "outputs": [],
      "source": [
        "STAGE  = 3\n",
        "\n",
        "input_folder = output_chunk_dir # previous output folder is the input folder for the current stage\n",
        "output_folder =  output_exact_dedupe_dir\n",
        "\n",
        "input_df = read_parquet_files_as_df(input_folder)  ## for debug purposes\n",
        "\n",
        "print (f\"🏃🏼 STAGE-{STAGE}: Processing input='{input_folder}' --> output='{output_folder}'\")"
      ]
    },
    {
      "cell_type": "markdown",
      "id": "3661cb37-39c7-4b09-a784-925bfa9eaf1e",
      "metadata": {
        "id": "3661cb37-39c7-4b09-a784-925bfa9eaf1e"
      },
      "source": [
        "### 5.2 - Execute"
      ]
    },
    {
      "cell_type": "code",
      "execution_count": null,
      "id": "a624b2b2-faad-4325-ac7d-53a840f564ef",
      "metadata": {
        "colab": {
          "base_uri": "https://localhost:8080/"
        },
        "id": "a624b2b2-faad-4325-ac7d-53a840f564ef",
        "outputId": "b9b3de92-4304-4540-dfba-a4549fa157eb"
      },
      "outputs": [],
      "source": [
        "%%time\n",
        "\n",
        "from data_processing.runtime.pure_python import PythonTransformLauncher\n",
        "from ededup_transform_python import EdedupPythonTransformRuntimeConfiguration\n",
        "\n",
        "\n",
        "# Prepare the commandline params\n",
        "local_conf = {\n",
        "    \"input_folder\": input_folder,\n",
        "    \"output_folder\": output_folder,\n",
        "}\n",
        "params = {\n",
        "    # Data access. Only required parameters are specified\n",
        "    \"data_local_config\": ParamsUtils.convert_to_ast(local_conf),\n",
        "    # ededup parameters\n",
        "    \"ededup_doc_column\": \"contents\",\n",
        "}\n",
        "\n",
        "# Pass the commandline params\n",
        "sys.argv = ParamsUtils.dict_to_req(d=params)\n",
        "\n",
        "# create launcher\n",
        "launcher = PythonTransformLauncher(EdedupPythonTransformRuntimeConfiguration())\n",
        "# launch\n",
        "return_code = launcher.launch()\n",
        "\n",
        "if return_code == 0:\n",
        "    print (f\"✅ Stage:{STAGE} completed successfully\")\n",
        "else:\n",
        "    raise Exception (\"❌ Job failed\")"
      ]
    },
    {
      "cell_type": "markdown",
      "id": "eaf1c3c3",
      "metadata": {
        "id": "eaf1c3c3"
      },
      "source": [
        "### 5.3 - Inspect Generated output"
      ]
    },
    {
      "cell_type": "code",
      "execution_count": null,
      "id": "d824ebf6",
      "metadata": {
        "colab": {
          "base_uri": "https://localhost:8080/",
          "height": 358
        },
        "id": "d824ebf6",
        "outputId": "14aa660f-6f1a-4f93-9b61-5f8f8adcf3fe"
      },
      "outputs": [],
      "source": [
        "from utils import read_parquet_files_as_df\n",
        "\n",
        "output_df = read_parquet_files_as_df(output_folder)\n",
        "\n",
        "print (\"Input data dimensions (rows x columns)= \", input_df.shape)\n",
        "print (\"Output data dimensions (rows x columns)= \", output_df.shape)\n",
        "print (f\"Input chunks before exact dedupe : {input_df.shape[0]:,}\")\n",
        "print (f\"Output chunks after exact dedupe : {output_df.shape[0]:,}\")\n",
        "print (\"Duplicate chunks removed :  \", (input_df.shape[0] - output_df.shape[0]))\n",
        "\n",
        "output_df.head(10)"
      ]
    },
    {
      "cell_type": "code",
      "execution_count": null,
      "id": "82cc9bb0",
      "metadata": {
        "colab": {
          "base_uri": "https://localhost:8080/",
          "height": 112
        },
        "id": "82cc9bb0",
        "outputId": "2aff0a5f-8cc7-408c-e1cf-62c0b14b18fb"
      },
      "outputs": [],
      "source": [
        "output_df[['filename', 'contents']]"
      ]
    },
    {
      "cell_type": "code",
      "execution_count": null,
      "id": "cc61dffa",
      "metadata": {
        "colab": {
          "base_uri": "https://localhost:8080/"
        },
        "id": "cc61dffa",
        "outputId": "337b015f-3795-4c45-98a3-03ae817d4dca"
      },
      "outputs": [],
      "source": [
        "for f in output_df['filename'].unique():\n",
        "    print ('==========' , f, '===========')\n",
        "    chunks = output_df[output_df['filename'] == f]['contents']\n",
        "    for idx , chunk in enumerate(chunks):\n",
        "        print (f'-------Chunk {idx}------\\n{chunk}\\n-------')"
      ]
    }
  ],
  "metadata": {
    "colab": {
      "provenance": []
    },
    "kernelspec": {
      "display_name": "Python 3 (ipykernel)",
      "language": "python",
      "name": "python3"
    },
    "language_info": {
      "codemirror_mode": {
        "name": "ipython",
        "version": 3
      },
      "file_extension": ".py",
      "mimetype": "text/x-python",
      "name": "python",
      "nbconvert_exporter": "python",
      "pygments_lexer": "ipython3",
      "version": "3.11.9"
    },
    "widgets": {
      "application/vnd.jupyter.widget-state+json": {
        "0a1ed94698ca4e4291c553929e0ca66c": {
          "model_module": "@jupyter-widgets/controls",
          "model_module_version": "1.5.0",
          "model_name": "ProgressStyleModel",
          "state": {
            "_model_module": "@jupyter-widgets/controls",
            "_model_module_version": "1.5.0",
            "_model_name": "ProgressStyleModel",
            "_view_count": null,
            "_view_module": "@jupyter-widgets/base",
            "_view_module_version": "1.2.0",
            "_view_name": "StyleView",
            "bar_color": null,
            "description_width": ""
          }
        },
        "2eea7bc810e54eaeb325136352b71e66": {
          "model_module": "@jupyter-widgets/base",
          "model_module_version": "1.2.0",
          "model_name": "LayoutModel",
          "state": {
            "_model_module": "@jupyter-widgets/base",
            "_model_module_version": "1.2.0",
            "_model_name": "LayoutModel",
            "_view_count": null,
            "_view_module": "@jupyter-widgets/base",
            "_view_module_version": "1.2.0",
            "_view_name": "LayoutView",
            "align_content": null,
            "align_items": null,
            "align_self": null,
            "border": null,
            "bottom": null,
            "display": null,
            "flex": null,
            "flex_flow": null,
            "grid_area": null,
            "grid_auto_columns": null,
            "grid_auto_flow": null,
            "grid_auto_rows": null,
            "grid_column": null,
            "grid_gap": null,
            "grid_row": null,
            "grid_template_areas": null,
            "grid_template_columns": null,
            "grid_template_rows": null,
            "height": null,
            "justify_content": null,
            "justify_items": null,
            "left": null,
            "margin": null,
            "max_height": null,
            "max_width": null,
            "min_height": null,
            "min_width": null,
            "object_fit": null,
            "object_position": null,
            "order": null,
            "overflow": null,
            "overflow_x": null,
            "overflow_y": null,
            "padding": null,
            "right": null,
            "top": null,
            "visibility": null,
            "width": null
          }
        },
        "3077f04af3a9447ab98717bd3131cd8f": {
          "model_module": "@jupyter-widgets/controls",
          "model_module_version": "1.5.0",
          "model_name": "DescriptionStyleModel",
          "state": {
            "_model_module": "@jupyter-widgets/controls",
            "_model_module_version": "1.5.0",
            "_model_name": "DescriptionStyleModel",
            "_view_count": null,
            "_view_module": "@jupyter-widgets/base",
            "_view_module_version": "1.2.0",
            "_view_name": "StyleView",
            "description_width": ""
          }
        },
        "4f63bfad92b64e7bae18e720376d402d": {
          "model_module": "@jupyter-widgets/controls",
          "model_module_version": "1.5.0",
          "model_name": "FloatProgressModel",
          "state": {
            "_dom_classes": [],
            "_model_module": "@jupyter-widgets/controls",
            "_model_module_version": "1.5.0",
            "_model_name": "FloatProgressModel",
            "_view_count": null,
            "_view_module": "@jupyter-widgets/controls",
            "_view_module_version": "1.5.0",
            "_view_name": "ProgressView",
            "bar_style": "success",
            "description": "",
            "description_tooltip": null,
            "layout": "IPY_MODEL_709685da1c6c4164bed658357a2191bf",
            "max": 7,
            "min": 0,
            "orientation": "horizontal",
            "style": "IPY_MODEL_0a1ed94698ca4e4291c553929e0ca66c",
            "value": 7
          }
        },
        "5dbc6889a9c243c5a922f8cc5f1a704c": {
          "model_module": "@jupyter-widgets/base",
          "model_module_version": "1.2.0",
          "model_name": "LayoutModel",
          "state": {
            "_model_module": "@jupyter-widgets/base",
            "_model_module_version": "1.2.0",
            "_model_name": "LayoutModel",
            "_view_count": null,
            "_view_module": "@jupyter-widgets/base",
            "_view_module_version": "1.2.0",
            "_view_name": "LayoutView",
            "align_content": null,
            "align_items": null,
            "align_self": null,
            "border": null,
            "bottom": null,
            "display": null,
            "flex": null,
            "flex_flow": null,
            "grid_area": null,
            "grid_auto_columns": null,
            "grid_auto_flow": null,
            "grid_auto_rows": null,
            "grid_column": null,
            "grid_gap": null,
            "grid_row": null,
            "grid_template_areas": null,
            "grid_template_columns": null,
            "grid_template_rows": null,
            "height": null,
            "justify_content": null,
            "justify_items": null,
            "left": null,
            "margin": null,
            "max_height": null,
            "max_width": null,
            "min_height": null,
            "min_width": null,
            "object_fit": null,
            "object_position": null,
            "order": null,
            "overflow": null,
            "overflow_x": null,
            "overflow_y": null,
            "padding": null,
            "right": null,
            "top": null,
            "visibility": null,
            "width": null
          }
        },
        "6957a659451b46dab702c1c62fa9cdd2": {
          "model_module": "@jupyter-widgets/controls",
          "model_module_version": "1.5.0",
          "model_name": "HTMLModel",
          "state": {
            "_dom_classes": [],
            "_model_module": "@jupyter-widgets/controls",
            "_model_module_version": "1.5.0",
            "_model_name": "HTMLModel",
            "_view_count": null,
            "_view_module": "@jupyter-widgets/controls",
            "_view_module_version": "1.5.0",
            "_view_name": "HTMLView",
            "description": "",
            "description_tooltip": null,
            "layout": "IPY_MODEL_5dbc6889a9c243c5a922f8cc5f1a704c",
            "placeholder": "​",
            "style": "IPY_MODEL_d6e520e4da004c818031ccfcc3588e5d",
            "value": " 7/7 [00:00&lt;00:00, 221.60it/s]"
          }
        },
        "709685da1c6c4164bed658357a2191bf": {
          "model_module": "@jupyter-widgets/base",
          "model_module_version": "1.2.0",
          "model_name": "LayoutModel",
          "state": {
            "_model_module": "@jupyter-widgets/base",
            "_model_module_version": "1.2.0",
            "_model_name": "LayoutModel",
            "_view_count": null,
            "_view_module": "@jupyter-widgets/base",
            "_view_module_version": "1.2.0",
            "_view_name": "LayoutView",
            "align_content": null,
            "align_items": null,
            "align_self": null,
            "border": null,
            "bottom": null,
            "display": null,
            "flex": null,
            "flex_flow": null,
            "grid_area": null,
            "grid_auto_columns": null,
            "grid_auto_flow": null,
            "grid_auto_rows": null,
            "grid_column": null,
            "grid_gap": null,
            "grid_row": null,
            "grid_template_areas": null,
            "grid_template_columns": null,
            "grid_template_rows": null,
            "height": null,
            "justify_content": null,
            "justify_items": null,
            "left": null,
            "margin": null,
            "max_height": null,
            "max_width": null,
            "min_height": null,
            "min_width": null,
            "object_fit": null,
            "object_position": null,
            "order": null,
            "overflow": null,
            "overflow_x": null,
            "overflow_y": null,
            "padding": null,
            "right": null,
            "top": null,
            "visibility": null,
            "width": null
          }
        },
        "7616f1b493e1461c9fd1319fae3bc10b": {
          "model_module": "@jupyter-widgets/controls",
          "model_module_version": "1.5.0",
          "model_name": "HTMLModel",
          "state": {
            "_dom_classes": [],
            "_model_module": "@jupyter-widgets/controls",
            "_model_module_version": "1.5.0",
            "_model_name": "HTMLModel",
            "_view_count": null,
            "_view_module": "@jupyter-widgets/controls",
            "_view_module_version": "1.5.0",
            "_view_name": "HTMLView",
            "description": "",
            "description_tooltip": null,
            "layout": "IPY_MODEL_ebc626c0750c470db6789b26acf15f60",
            "placeholder": "​",
            "style": "IPY_MODEL_3077f04af3a9447ab98717bd3131cd8f",
            "value": "Fetching 7 files: 100%"
          }
        },
        "8226b2522ce446f6bd3a36c4e227370c": {
          "model_module": "@jupyter-widgets/controls",
          "model_module_version": "1.5.0",
          "model_name": "HBoxModel",
          "state": {
            "_dom_classes": [],
            "_model_module": "@jupyter-widgets/controls",
            "_model_module_version": "1.5.0",
            "_model_name": "HBoxModel",
            "_view_count": null,
            "_view_module": "@jupyter-widgets/controls",
            "_view_module_version": "1.5.0",
            "_view_name": "HBoxView",
            "box_style": "",
            "children": [
              "IPY_MODEL_7616f1b493e1461c9fd1319fae3bc10b",
              "IPY_MODEL_4f63bfad92b64e7bae18e720376d402d",
              "IPY_MODEL_6957a659451b46dab702c1c62fa9cdd2"
            ],
            "layout": "IPY_MODEL_2eea7bc810e54eaeb325136352b71e66"
          }
        },
        "d6e520e4da004c818031ccfcc3588e5d": {
          "model_module": "@jupyter-widgets/controls",
          "model_module_version": "1.5.0",
          "model_name": "DescriptionStyleModel",
          "state": {
            "_model_module": "@jupyter-widgets/controls",
            "_model_module_version": "1.5.0",
            "_model_name": "DescriptionStyleModel",
            "_view_count": null,
            "_view_module": "@jupyter-widgets/base",
            "_view_module_version": "1.2.0",
            "_view_name": "StyleView",
            "description_width": ""
          }
        },
        "ebc626c0750c470db6789b26acf15f60": {
          "model_module": "@jupyter-widgets/base",
          "model_module_version": "1.2.0",
          "model_name": "LayoutModel",
          "state": {
            "_model_module": "@jupyter-widgets/base",
            "_model_module_version": "1.2.0",
            "_model_name": "LayoutModel",
            "_view_count": null,
            "_view_module": "@jupyter-widgets/base",
            "_view_module_version": "1.2.0",
            "_view_name": "LayoutView",
            "align_content": null,
            "align_items": null,
            "align_self": null,
            "border": null,
            "bottom": null,
            "display": null,
            "flex": null,
            "flex_flow": null,
            "grid_area": null,
            "grid_auto_columns": null,
            "grid_auto_flow": null,
            "grid_auto_rows": null,
            "grid_column": null,
            "grid_gap": null,
            "grid_row": null,
            "grid_template_areas": null,
            "grid_template_columns": null,
            "grid_template_rows": null,
            "height": null,
            "justify_content": null,
            "justify_items": null,
            "left": null,
            "margin": null,
            "max_height": null,
            "max_width": null,
            "min_height": null,
            "min_width": null,
            "object_fit": null,
            "object_position": null,
            "order": null,
            "overflow": null,
            "overflow_x": null,
            "overflow_y": null,
            "padding": null,
            "right": null,
            "top": null,
            "visibility": null,
            "width": null
          }
        }
      }
    }
  },
  "nbformat": 4,
  "nbformat_minor": 5
}
